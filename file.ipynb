{
 "cells": [
  {
   "cell_type": "code",
   "execution_count": 9,
   "id": "7ea5d613",
   "metadata": {},
   "outputs": [
    {
     "name": "stdout",
     "output_type": "stream",
     "text": [
      "The name of my country is Bangladesh.\n"
     ]
    }
   ],
   "source": [
    "my_file = open('test.txt', 'r')\n",
    "content = my_file.read()\n",
    "print(content)\n",
    "my_file.close()"
   ]
  },
  {
   "cell_type": "code",
   "execution_count": 5,
   "id": "1036f9bd",
   "metadata": {},
   "outputs": [
    {
     "data": {
      "text/plain": [
       "<_io.TextIOWrapper name='test.txt' mode='r' encoding='cp1252'>"
      ]
     },
     "execution_count": 5,
     "metadata": {},
     "output_type": "execute_result"
    }
   ],
   "source": [
    "my_file = open('test.txt', 'r')\n",
    "my_file"
   ]
  },
  {
   "cell_type": "code",
   "execution_count": 6,
   "id": "f2777e99",
   "metadata": {},
   "outputs": [
    {
     "data": {
      "text/plain": [
       "<_io.TextIOWrapper name='test.txt' mode='w' encoding='cp1252'>"
      ]
     },
     "execution_count": 6,
     "metadata": {},
     "output_type": "execute_result"
    }
   ],
   "source": [
    "my_file = open('test.txt', 'w')\n",
    "my_file"
   ]
  },
  {
   "cell_type": "code",
   "execution_count": 8,
   "id": "a4b01af1",
   "metadata": {},
   "outputs": [
    {
     "data": {
      "text/plain": [
       "<_io.TextIOWrapper name='test1.txt' mode='w' encoding='cp1252'>"
      ]
     },
     "execution_count": 8,
     "metadata": {},
     "output_type": "execute_result"
    }
   ],
   "source": [
    "my_file = open('test1.txt', 'w')\n",
    "my_file"
   ]
  },
  {
   "cell_type": "code",
   "execution_count": 11,
   "id": "5f06e125",
   "metadata": {},
   "outputs": [],
   "source": [
    "my_file=open('test.txt','w')\n",
    "my_file.write('I am uzzal kumar')\n",
    "my_file.close()"
   ]
  },
  {
   "cell_type": "code",
   "execution_count": 12,
   "id": "808d0764",
   "metadata": {},
   "outputs": [],
   "source": [
    "my_file=open('test.txt','a')\n",
    "my_file.write('I am from Bangladesh')\n",
    "my_file.close()"
   ]
  },
  {
   "cell_type": "code",
   "execution_count": 15,
   "id": "4ac6ec8e",
   "metadata": {},
   "outputs": [
    {
     "name": "stdout",
     "output_type": "stream",
     "text": [
      "I am \n",
      "uzzal kumarI am from Bangladesh\n",
      "36\n",
      "I am uzzal kumarI am from Bangladesh\n"
     ]
    }
   ],
   "source": [
    "my_file = open('test.txt', 'r')\n",
    "content = my_file.read(5)\n",
    "print(content)\n",
    "content = my_file.read()\n",
    "print(content)\n",
    "position = my_file.tell()\n",
    "print(position)\n",
    "my_file.seek(0,0)\n",
    "content = my_file.read()\n",
    "print(content)\n",
    "my_file.close()"
   ]
  },
  {
   "cell_type": "code",
   "execution_count": 16,
   "id": "214df441",
   "metadata": {},
   "outputs": [
    {
     "name": "stdout",
     "output_type": "stream",
     "text": [
      "I am uzzal kumarI am from Bangladesh\n"
     ]
    }
   ],
   "source": [
    "with open('test.txt', 'r') as my_file:\n",
    "    content = my_file.read()\n",
    "    print(content)"
   ]
  },
  {
   "cell_type": "code",
   "execution_count": null,
   "id": "4011c0f8",
   "metadata": {},
   "outputs": [],
   "source": []
  }
 ],
 "metadata": {
  "kernelspec": {
   "display_name": "Python 3 (ipykernel)",
   "language": "python",
   "name": "python3"
  },
  "language_info": {
   "codemirror_mode": {
    "name": "ipython",
    "version": 3
   },
   "file_extension": ".py",
   "mimetype": "text/x-python",
   "name": "python",
   "nbconvert_exporter": "python",
   "pygments_lexer": "ipython3",
   "version": "3.9.7"
  }
 },
 "nbformat": 4,
 "nbformat_minor": 5
}
