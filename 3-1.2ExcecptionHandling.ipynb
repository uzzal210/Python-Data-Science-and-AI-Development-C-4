{
 "cells": [
  {
   "cell_type": "markdown",
   "id": "589c6f26-4a55-4cd9-8ada-bd82bd5155e8",
   "metadata": {},
   "source": [
    "<p style=\"text-align:center\">\n",
    "    <a href=\"https://skills.network\" target=\"_blank\">\n",
    "    <img src=\"https://cf-courses-data.s3.us.cloud-object-storage.appdomain.cloud/assets/logos/SN_web_lightmode.png\" width=\"200\" alt=\"Skills Network Logo\">\n",
    "    </a>\n",
    "</p>\n"
   ]
  },
  {
   "cell_type": "markdown",
   "id": "e16a1ca1-c1a1-4fe3-b3e1-78bac0607e7f",
   "metadata": {},
   "source": [
    "# **Exception Handling**\n",
    "\n",
    "Estimated time needed: **15** minutes\n",
    "    \n",
    "\n",
    "## Objectives\n",
    "\n",
    "After completing this lab you will be able to:\n",
    "\n",
    "* Understand exceptions    \n",
    "* Handle the exceptions\n"
   ]
  },
  {
   "cell_type": "markdown",
   "id": "77f8046a-d71e-46aa-ac41-71db43bcfc45",
   "metadata": {},
   "source": [
    "## Table of Contents\n"
   ]
  },
  {
   "cell_type": "markdown",
   "id": "7809c8dc-7ee4-48ae-9548-c23816a6121e",
   "metadata": {},
   "source": [
    "* What is an Exception?\n",
    "* Exception Handling\n"
   ]
  },
  {
   "cell_type": "markdown",
   "id": "be27f34c-6164-42e1-9798-37684dab8b6b",
   "metadata": {},
   "source": [
    "----\n"
   ]
  },
  {
   "cell_type": "markdown",
   "id": "4062b4bc-c687-4da2-9c5c-ee0ad50733b7",
   "metadata": {},
   "source": [
    "## What is an Exception?\n"
   ]
  },
  {
   "cell_type": "markdown",
   "id": "cd639ab9-eaf0-48fb-98db-bd1c651612ea",
   "metadata": {},
   "source": [
    "In this section you will learn about what an exception is and see examples of them.\n"
   ]
  },
  {
   "cell_type": "markdown",
   "id": "ec7cf919-485b-43cb-b00a-18b531c59536",
   "metadata": {},
   "source": [
    "### Definition\n"
   ]
  },
  {
   "cell_type": "markdown",
   "id": "22753ad0-7cb7-46d5-8803-5bb2627f3e5e",
   "metadata": {},
   "source": [
    "An exception is an error that occurs during the execution of code. This error causes the code to raise an exception and if not prepared to handle it will halt the execution of the code.\n"
   ]
  },
  {
   "cell_type": "markdown",
   "id": "38adf709-1cb1-43a2-9201-ae514b69ce5b",
   "metadata": {},
   "source": [
    "### Examples\n"
   ]
  },
  {
   "cell_type": "markdown",
   "id": "d4f79a4f-41cf-4a04-9073-cabcea9d4c42",
   "metadata": {},
   "source": [
    "Run each piece of code and observe the exception raised\n"
   ]
  },
  {
   "cell_type": "code",
   "execution_count": 1,
   "id": "4161625c-372a-4fdd-87d9-b4aa79c3a738",
   "metadata": {},
   "outputs": [
    {
     "ename": "ZeroDivisionError",
     "evalue": "division by zero",
     "output_type": "error",
     "traceback": [
      "\u001b[1;31m---------------------------------------------------------------------------\u001b[0m",
      "\u001b[1;31mZeroDivisionError\u001b[0m                         Traceback (most recent call last)",
      "\u001b[1;32m~\\AppData\\Local\\Temp/ipykernel_3796/2354412189.py\u001b[0m in \u001b[0;36m<module>\u001b[1;34m\u001b[0m\n\u001b[1;32m----> 1\u001b[1;33m \u001b[1;36m1\u001b[0m\u001b[1;33m/\u001b[0m\u001b[1;36m0\u001b[0m\u001b[1;33m\u001b[0m\u001b[1;33m\u001b[0m\u001b[0m\n\u001b[0m",
      "\u001b[1;31mZeroDivisionError\u001b[0m: division by zero"
     ]
    }
   ],
   "source": [
    "1/0"
   ]
  },
  {
   "cell_type": "markdown",
   "id": "fb55cde7-79a5-4a4d-94ff-819c9c833a1d",
   "metadata": {},
   "source": [
    "<code>ZeroDivisionError</code> occurs when you try to divide by zero.\n"
   ]
  },
  {
   "cell_type": "code",
   "execution_count": 2,
   "id": "23f331b7-9158-4e90-a38b-7c79da659bfd",
   "metadata": {},
   "outputs": [
    {
     "ename": "NameError",
     "evalue": "name 'a' is not defined",
     "output_type": "error",
     "traceback": [
      "\u001b[1;31m---------------------------------------------------------------------------\u001b[0m",
      "\u001b[1;31mNameError\u001b[0m                                 Traceback (most recent call last)",
      "\u001b[1;32m~\\AppData\\Local\\Temp/ipykernel_3796/1161414849.py\u001b[0m in \u001b[0;36m<module>\u001b[1;34m\u001b[0m\n\u001b[1;32m----> 1\u001b[1;33m \u001b[0my\u001b[0m \u001b[1;33m=\u001b[0m \u001b[0ma\u001b[0m \u001b[1;33m+\u001b[0m \u001b[1;36m5\u001b[0m\u001b[1;33m\u001b[0m\u001b[1;33m\u001b[0m\u001b[0m\n\u001b[0m",
      "\u001b[1;31mNameError\u001b[0m: name 'a' is not defined"
     ]
    }
   ],
   "source": [
    "y = a + 5"
   ]
  },
  {
   "cell_type": "markdown",
   "id": "3ae5dfd3-311b-4fd7-87ab-ef7ad185618f",
   "metadata": {},
   "source": [
    "<code>NameError</code> -- in this case, it means that you tried to use the variable a when it was not defined.\n"
   ]
  },
  {
   "cell_type": "code",
   "execution_count": 3,
   "id": "759da671-5e01-4ecc-9c44-4a3a52c3968e",
   "metadata": {},
   "outputs": [
    {
     "ename": "IndexError",
     "evalue": "list index out of range",
     "output_type": "error",
     "traceback": [
      "\u001b[1;31m---------------------------------------------------------------------------\u001b[0m",
      "\u001b[1;31mIndexError\u001b[0m                                Traceback (most recent call last)",
      "\u001b[1;32m~\\AppData\\Local\\Temp/ipykernel_3796/1542938915.py\u001b[0m in \u001b[0;36m<module>\u001b[1;34m\u001b[0m\n\u001b[0;32m      1\u001b[0m \u001b[0ma\u001b[0m \u001b[1;33m=\u001b[0m \u001b[1;33m[\u001b[0m\u001b[1;36m1\u001b[0m\u001b[1;33m,\u001b[0m \u001b[1;36m2\u001b[0m\u001b[1;33m,\u001b[0m \u001b[1;36m3\u001b[0m\u001b[1;33m]\u001b[0m\u001b[1;33m\u001b[0m\u001b[1;33m\u001b[0m\u001b[0m\n\u001b[1;32m----> 2\u001b[1;33m \u001b[0ma\u001b[0m\u001b[1;33m[\u001b[0m\u001b[1;36m10\u001b[0m\u001b[1;33m]\u001b[0m\u001b[1;33m\u001b[0m\u001b[1;33m\u001b[0m\u001b[0m\n\u001b[0m",
      "\u001b[1;31mIndexError\u001b[0m: list index out of range"
     ]
    }
   ],
   "source": [
    "a = [1, 2, 3]\n",
    "a[10]"
   ]
  },
  {
   "cell_type": "markdown",
   "id": "c30f6ff3-93ca-4c42-8cfb-34ef6706f4bd",
   "metadata": {},
   "source": [
    "<code>IndexError</code> -- in this case, it occured because you tried to access data from a list using an index that does not exist for this list.\n"
   ]
  },
  {
   "cell_type": "markdown",
   "id": "19c5a4e6-f177-45e9-8c55-6e55695201dc",
   "metadata": {},
   "source": [
    "There are many more exceptions that are built into Python, here is a list of them https://docs.python.org/3/library/exceptions.html\n"
   ]
  },
  {
   "cell_type": "markdown",
   "id": "9de45a75-11cb-4f87-98f2-f0959a0af8a7",
   "metadata": {},
   "source": [
    "## Exception Handling\n"
   ]
  },
  {
   "cell_type": "markdown",
   "id": "2c181817-b4e1-47a9-ab19-ca1a1dc7917a",
   "metadata": {},
   "source": [
    "In this section you will learn how to handle exceptions. You will understand how to make your program perform specified tasks instead of halting code execution when an exception is encountered.\n"
   ]
  },
  {
   "cell_type": "markdown",
   "id": "f4dfbd56-316b-4454-959a-9d2a8c8364d0",
   "metadata": {},
   "source": [
    "### Try Except\n"
   ]
  },
  {
   "cell_type": "markdown",
   "id": "2eddd66c-e248-4e37-8226-b4f0091cc601",
   "metadata": {},
   "source": [
    "A <code>try except</code> will allow you to execute code that might raise an exception and in the case of any exception or a specific one we can handle or catch the exception and execute specific code. This will allow us to continue the execution of our program even if there is an exception.\n",
    "\n",
    "Python tries to execute the code in the <code>try</code> block. In this case if there is any exception raised by the code in the <code>try</code> block, it will be caught and the code block in the <code>except</code> block will be executed. After that, the code that comes <em>after</em> the try except will be executed.\n"
   ]
  },
  {
   "cell_type": "code",
   "execution_count": null,
   "id": "fe9ee37c-838b-418d-b8a7-4ea02518fd36",
   "metadata": {},
   "outputs": [],
   "source": [
    "# potential code before try catch\n",
    "\n",
    "try:\n",
    "    # code to try to execute\n",
    "except:\n",
    "    # code to execute if there is an exception\n",
    "    \n",
    "# code that will still execute if there is an exception"
   ]
  },
  {
   "cell_type": "markdown",
   "id": "1f6b6590-ca96-4136-886e-c00946768da0",
   "metadata": {},
   "source": [
    "### Try Except Example\n"
   ]
  },
  {
   "cell_type": "markdown",
   "id": "f78f954a-deba-44a5-a7d8-c5f22dbdbb5b",
   "metadata": {},
   "source": [
    "In this example we are trying to divide a number given by the user, save the outcome in the variable <code>a</code>, and then we would like to print the result of the operation. When taking user input and dividing a number by it there are a couple of exceptions that can be raised. For example if we divide by zero. Try running the following block of code with <code>b</code> as a number. An exception will only be raised if <code>b</code> is zero.\n"
   ]
  },
  {
   "cell_type": "code",
   "execution_count": 4,
   "id": "1acc295c-1d2d-41de-8ef4-d746c5bf9f77",
   "metadata": {},
   "outputs": [
    {
     "name": "stdout",
     "output_type": "stream",
     "text": [
      "Please enter a number to divide a0\n",
      "There was an error\n"
     ]
    }
   ],
   "source": [
    "a = 1\n",
    "\n",
    "try:\n",
    "    b = int(input(\"Please enter a number to divide a\"))\n",
    "    a = a/b\n",
    "    print(\"Success a=\",a)\n",
    "except:\n",
    "    print(\"There was an error\")\n",
    "        \n"
   ]
  },
  {
   "cell_type": "markdown",
   "id": "705a7fed-c36b-43cd-b8e6-b919ecfe4084",
   "metadata": {},
   "source": [
    "### Try Except Specific\n"
   ]
  },
  {
   "cell_type": "markdown",
   "id": "9f77d7b4-97f2-4876-bce1-5a1a44ced0ca",
   "metadata": {},
   "source": [
    "A specific <code>try except</code> allows you to catch certain exceptions and also execute certain code depending on the exception. This is useful if you do not want to deal with some exceptions and the execution should halt. It can also help you find errors in your code that you might not be aware of. Furthermore, it can help you differentiate responses to different exceptions. In this case, the code after the try except might not run depending on the error.\n"
   ]
  },
  {
   "cell_type": "markdown",
   "id": "e4809997-0313-463b-9904-a216c7ff558a",
   "metadata": {},
   "source": [
    "<b>Do not run, just to illustrate:</b>\n"
   ]
  },
  {
   "cell_type": "code",
   "execution_count": null,
   "id": "bfe2d724-41dc-4410-9126-9472417b8aa6",
   "metadata": {},
   "outputs": [],
   "source": [
    "# potential code before try catch\n",
    "\n",
    "try:\n",
    "    # code to try to execute\n",
    "except (ZeroDivisionError, NameError):\n",
    "    # code to execute if there is an exception of the given types\n",
    "    \n",
    "# code that will execute if there is no exception or a one that we are handling"
   ]
  },
  {
   "cell_type": "code",
   "execution_count": null,
   "id": "49fe440e-39ba-4655-b07c-da6909f8c336",
   "metadata": {},
   "outputs": [],
   "source": [
    "# potential code before try catch\n",
    "\n",
    "try:\n",
    "    # code to try to execute\n",
    "except ZeroDivisionError:\n",
    "    # code to execute if there is a ZeroDivisionError\n",
    "except NameError:\n",
    "    # code to execute if there is a NameError\n",
    "    \n",
    "# code that will execute if there is no exception or a one that we are handling"
   ]
  },
  {
   "cell_type": "markdown",
   "id": "05a55b1f-61a4-4cd4-a140-7a69db7ee496",
   "metadata": {},
   "source": [
    "You can also have an empty <code>except</code> at the end to catch an unexpected exception:\n"
   ]
  },
  {
   "cell_type": "markdown",
   "id": "13f48914-1666-447d-a2bf-d4805b499026",
   "metadata": {},
   "source": [
    "<b>Do not run, just to illustrate:</b>\n"
   ]
  },
  {
   "cell_type": "code",
   "execution_count": null,
   "id": "77ebccbe-48a5-4392-b6c3-7bceca968b53",
   "metadata": {},
   "outputs": [],
   "source": [
    "# potential code before try catch\n",
    "\n",
    "try:\n",
    "    # code to try to execute\n",
    "except ZeroDivisionError:\n",
    "    # code to execute if there is a ZeroDivisionError\n",
    "except NameError:\n",
    "    # code to execute if there is a NameError\n",
    "except:\n",
    "    # code to execute if ther is any exception\n",
    "    \n",
    "# code that will execute if there is no exception or a one that we are handling"
   ]
  },
  {
   "cell_type": "markdown",
   "id": "67a5efbd-5cc1-47e7-80e6-79d0550e6a21",
   "metadata": {},
   "source": [
    "### Try Except Specific Example\n"
   ]
  },
  {
   "cell_type": "markdown",
   "id": "7849a8e1-4825-4246-abd0-5150ed60a149",
   "metadata": {},
   "source": [
    "This is the same example as above, but now we will add differentiated messages depending on the exception, letting the user know what is wrong with the input.\n"
   ]
  },
  {
   "cell_type": "code",
   "execution_count": 8,
   "id": "24219582-67b8-43a0-a4e5-d7b687ac2cef",
   "metadata": {},
   "outputs": [
    {
     "name": "stdout",
     "output_type": "stream",
     "text": [
      "Please enter a number to divide a\n",
      "You did not provide a number\n"
     ]
    }
   ],
   "source": [
    "a = 1\n",
    "\n",
    "try:\n",
    "    b = int(input(\"Please enter a number to divide a\"))\n",
    "    a = a/b\n",
    "    print(\"Success a=\",a)\n",
    "except ZeroDivisionError:\n",
    "    print(\"The number you provided cant divide 1 because it is 0\")\n",
    "except ValueError:\n",
    "    print(\"You did not provide a number\")\n",
    "except:\n",
    "    print(\"Something went wrong\")\n",
    "        \n"
   ]
  },
  {
   "cell_type": "markdown",
   "id": "986af76f-b202-4e77-b10d-a3a3694b50d1",
   "metadata": {},
   "source": [
    "### Try Except Else and Finally\n"
   ]
  },
  {
   "cell_type": "markdown",
   "id": "ac032e50-e753-488a-b8fc-79bd459c6502",
   "metadata": {},
   "source": [
    "<code>else</code> allows one to check if there was no exception when executing the try block. This is useful when we want to execute something only if there were no errors.\n"
   ]
  },
  {
   "cell_type": "markdown",
   "id": "a62986b2-e159-422a-87f9-2689668cba76",
   "metadata": {},
   "source": [
    "<b>do not run, just to illustrate</b>\n"
   ]
  },
  {
   "cell_type": "code",
   "execution_count": null,
   "id": "0eefafa6-e2ca-4912-a568-d4d66475448b",
   "metadata": {},
   "outputs": [],
   "source": [
    "# potential code before try catch\n",
    "\n",
    "try:\n",
    "    # code to try to execute\n",
    "except ZeroDivisionError:\n",
    "    # code to execute if there is a ZeroDivisionError\n",
    "except NameError:\n",
    "    # code to execute if there is a NameError\n",
    "except:\n",
    "    # code to execute if ther is any exception\n",
    "else:\n",
    "    # code to execute if there is no exception\n",
    "    \n",
    "# code that will execute if there is no exception or a one that we are handling"
   ]
  },
  {
   "cell_type": "markdown",
   "id": "906c0ed7-4167-42c0-af9f-d7006ef22b96",
   "metadata": {},
   "source": [
    "<code>finally</code> allows us to always execute something even if there is an exception or not. This is usually used to signify the end of the try except.\n"
   ]
  },
  {
   "cell_type": "code",
   "execution_count": null,
   "id": "ba0da7b2-5ba5-436a-adb4-79ce9f15a4d5",
   "metadata": {},
   "outputs": [],
   "source": [
    "# potential code before try catch\n",
    "\n",
    "try:\n",
    "    # code to try to execute\n",
    "except ZeroDivisionError:\n",
    "    # code to execute if there is a ZeroDivisionError\n",
    "except NameError:\n",
    "    # code to execute if there is a NameError\n",
    "except:\n",
    "    # code to execute if ther is any exception\n",
    "else:\n",
    "    # code to execute if there is no exception\n",
    "finally:\n",
    "    # code to execute at the end of the try except no matter what\n",
    "    \n",
    "# code that will execute if there is no exception or a one that we are handling"
   ]
  },
  {
   "cell_type": "markdown",
   "id": "69aa0e96-1264-4ae8-8c90-43c12c31148a",
   "metadata": {},
   "source": [
    "### Try Except Else and Finally Example\n"
   ]
  },
  {
   "cell_type": "markdown",
   "id": "93a5d3e3-68f8-4748-abae-7a42b4560e80",
   "metadata": {},
   "source": [
    "You might have noticed that even if there is an error the value of <code>a</code> is always printed. Let's use the <code>else</code> and print the value of <code>a</code> only if there is no error.\n"
   ]
  },
  {
   "cell_type": "code",
   "execution_count": 11,
   "id": "9727d8b9-9ea0-420b-8222-10315d71b54f",
   "metadata": {},
   "outputs": [
    {
     "name": "stdout",
     "output_type": "stream",
     "text": [
      "Please enter a number to divide a\\\n",
      "You did not provide a number\n"
     ]
    }
   ],
   "source": [
    "a = 1\n",
    "\n",
    "try:\n",
    "    b = int(input(\"Please enter a number to divide a\"))\n",
    "    a = a/b\n",
    "except ZeroDivisionError:\n",
    "    print(\"The number you provided cant divide 1 because it is 0\")\n",
    "except ValueError:\n",
    "    print(\"You did not provide a number\")\n",
    "except:\n",
    "    print(\"Something went wrong\")\n",
    "else:\n",
    "    print(\"success a=\",a)"
   ]
  },
  {
   "cell_type": "markdown",
   "id": "e2b27e36-b727-4c48-9b57-5aafbb3c1cb5",
   "metadata": {},
   "source": [
    "Now lets let the user know that we are done processing their answer. Using the <code>finally</code>, let's add a print.\n"
   ]
  },
  {
   "cell_type": "code",
   "execution_count": 12,
   "id": "9107f58c-a144-4ebb-b881-32f1a0143f08",
   "metadata": {},
   "outputs": [
    {
     "name": "stdout",
     "output_type": "stream",
     "text": [
      "Please enter a number to divide a8\n",
      "success a= 0.125\n",
      "Processing Complete\n"
     ]
    }
   ],
   "source": [
    "a = 1\n",
    "\n",
    "try:\n",
    "    b = int(input(\"Please enter a number to divide a\"))\n",
    "    a = a/b\n",
    "except ZeroDivisionError:\n",
    "    print(\"The number you provided cant divide 1 because it is 0\")\n",
    "except ValueError:\n",
    "    print(\"You did not provide a number\")\n",
    "except:\n",
    "    print(\"Something went wrong\")\n",
    "else:\n",
    "    print(\"success a=\",a)\n",
    "finally:\n",
    "    print(\"Processing Complete\")"
   ]
  },
  {
   "cell_type": "markdown",
   "id": "b201196a-6b0f-49e7-9622-f0cde8208381",
   "metadata": {},
   "source": [
    "<center>\n",
    "    \n",
    "    \n",
    "# Practice Exercises \n",
    "\n",
    "</center>\n"
   ]
  },
  {
   "cell_type": "markdown",
   "id": "c99f4b4a-2846-42d5-97f4-f71e76c5e41c",
   "metadata": {},
   "source": [
    "## Exercise 1: Handling ZeroDivisionError\n"
   ]
  },
  {
   "cell_type": "markdown",
   "id": "a720de24-d326-4df0-94d7-af9af0c8eb7b",
   "metadata": {},
   "source": [
    "Imagine you have two numbers and want to determine what happens when you divide one number by the other. To do this, you need to create a Python function called `safe_divide.` You give this function two numbers, a `'numerator'` and a `'denominator'`. The 'numerator' is the number you want to divide, and the `'denominator'` is the number you want to divide by. Use the user input method of Python to take the values.\n",
    "\n",
    "The function should be able to do the division for you and give you the result. But here's the catch: if you try to divide by zero (which is not allowed in math), the function should be smart enough to catch that and tell you that it's not possible to divide by zero. Instead of showing an error, it should return None, which means 'nothing' or 'no value', and print `\"Error: Cannot divide by Zero.`\n"
   ]
  },
  {
   "cell_type": "code",
   "execution_count": 13,
   "id": "1d95dd88-8316-4984-86e1-cabc42598bfc",
   "metadata": {},
   "outputs": [
    {
     "name": "stdout",
     "output_type": "stream",
     "text": [
      "Enter the numerator value:-9\n",
      "Enter the denominator value:-0\n",
      "Error: Cannot divide by zero.\n",
      "None\n"
     ]
    }
   ],
   "source": [
    "#Type your code here\n",
    "def safe_divide(numerator,denominator):\n",
    "    try:\n",
    "        result = numerator / denominator\n",
    "        return result\n",
    "    except ZeroDivisionError:\n",
    "        print(\"Error: Cannot divide by zero.\")\n",
    "        return None\n",
    "# Test case\n",
    "numerator=int(input(\"Enter the numerator value:-\"))\n",
    "denominator=int(input(\"Enter the denominator value:-\"))\n",
    "print(safe_divide(numerator,denominator)) "
   ]
  },
  {
   "cell_type": "markdown",
   "id": "6ae2279f-acf2-49dd-99c2-f6ed6e9c78ac",
   "metadata": {},
   "source": [
    "**Note:- Practice handling exceptions by trying different input types like using integers, strings, zero, negative values, or other data types.**\n"
   ]
  },
  {
   "cell_type": "markdown",
   "id": "b0eab9c1-bf72-4c3a-b242-ee016b666a84",
   "metadata": {},
   "source": [
    "<details><summary>Click here for the hints</summary>\n",
    "\n",
    "```python\n",
    "Follow these: -\n",
    "* Define a function to perform the division and use two arguments.\n",
    "* Use the try-except block to handle ZeroDivisionError.\n",
    "* Return the result of the division if no error occurs.\n",
    "* Return None if division by zero occurs.\n",
    "* take user input for numerator and denominator values.\n",
    "* call and print your function with the user inputs.\n",
    "**Note:- Test with different inputs to validate error handling.**\n",
    "```\n",
    "\n",
    "</details>\n"
   ]
  },
  {
   "cell_type": "markdown",
   "id": "8551c71e-03ce-4bbd-bf9c-f87fc1b2f284",
   "metadata": {},
   "source": [
    "\n",
    "<details><summary>Click here for the solution</summary>\n",
    "\n",
    "```python\n",
    "\n",
    "def safe_divide(numerator,denominator):\n",
    "    try:\n",
    "        result = numerator / denominator\n",
    "        return result\n",
    "    except ZeroDivisionError:\n",
    "        print(\"Error: Cannot divide by zero.\")\n",
    "        return None\n",
    "# Test case\n",
    "numerator=int(input(\"Enter the numerator value:-\"))\n",
    "denominator=int(input(\"Enter the denominator value:-\"))\n",
    "print(safe_divide(numerator,denominator)) \n",
    "```\n",
    "\n",
    "</details>\n"
   ]
  },
  {
   "cell_type": "markdown",
   "id": "071c00cf-79f3-4da1-ac2d-ad9dcd032d09",
   "metadata": {},
   "source": [
    "## Exercise 2: Handling ValueError\n"
   ]
  },
  {
   "cell_type": "markdown",
   "id": "c119d619-94c5-450e-ada8-24837582e6c2",
   "metadata": {},
   "source": [
    "Imagine you have two numbers and want to find out what happens when you multiple one number by the other. To do this, you need to create a Python function. You give this function two numbers, a `'number1'` and a `'number2'`.\n",
    "\n",
    "When you use this function, it will take a number as input and attempt to multiply it by 2. The function should show you the multiplication result if you provide a valid integer or float value as input. However, the function will be clever enough to detect the mistake if you accidentally enter something other than a whole number, such as a letter or a decimal. It should kindly inform you with a message saying, `'Invalid input! Please enter an integer or a float value.`\n"
   ]
  },
  {
   "cell_type": "code",
   "execution_count": 16,
   "id": "83575368-1199-40b6-a60e-273f41c42b15",
   "metadata": {},
   "outputs": [
    {
     "name": "stdout",
     "output_type": "stream",
     "text": [
      "Enter the first number:-0\n",
      "Enter the second number:-9\n",
      "Result: 0.0\n"
     ]
    }
   ],
   "source": [
    "#Type your code here\n",
    "def perform_calculation(number1, number2):\n",
    "    try:\n",
    "        result = number1 * number2\n",
    "        print(f\"Result: {result}\")\n",
    "    except ValueError:\n",
    "        print(\"Error: Invalid input! Please enter an integer.\")\n",
    "# Test case\n",
    "number1=float(input(\"Enter the first number:-\"))\n",
    "number2=float(input(\"Enter the second number:-\"))\n",
    "perform_calculation(number1,number2)\n",
    "#**Note:- Test with different inputs to validate error handling.**"
   ]
  },
  {
   "cell_type": "markdown",
   "id": "57a104b8-6aed-451d-9c32-4b9a193c42a0",
   "metadata": {},
   "source": [
    "**Note:- Practice handling exceptions by trying different input types like using integers, strings, zero, negative values, or other data types.**\n"
   ]
  },
  {
   "cell_type": "markdown",
   "id": "43f4d03e-2206-46c9-8d64-9bd3b524b625",
   "metadata": {},
   "source": [
    "<details><summary>Click here for the hints</summary>\n",
    "\n",
    "```python\n",
    "Follow these:-\n",
    "* Define a function to perform the division and use two arguments.\n",
    "* Use try-except block for error handling.\n",
    "* Multiply the user_input by 2 and store in result Catch ValueError and display the error message.\"\n",
    "* Take user input of two values, number1 and number2.\n",
    "* Test with characters to validate error handling.\n",
    "```\n",
    "\n",
    "</details>\n"
   ]
  },
  {
   "cell_type": "markdown",
   "id": "cc380f03-b55b-4cb7-8fe0-0a0d2db546f3",
   "metadata": {},
   "source": [
    "<details><summary>Click here for the solution</summary>\n",
    "\n",
    "```python\n",
    "def perform_calculation(number1, number2):\n",
    "    try:\n",
    "        result = number1 * number2\n",
    "        print(f\"Result: {result}\")\n",
    "    except ValueError:\n",
    "        print(\"Error: Invalid input! Please enter an integer.\")\n",
    "# Test case\n",
    "number1=float(input(\"Enter the first number:-\"))\n",
    "number2=float(input(\"Enter the second number:-\"))\n",
    "perform_calculation(number1,number2)\n",
    "**Note:- Test with different inputs to validate error handling.**\n",
    "```\n",
    "\n",
    "</details>\n"
   ]
  },
  {
   "cell_type": "markdown",
   "id": "7fe354e3-d882-472f-984f-efe9d6c76db6",
   "metadata": {},
   "source": [
    "## Exercise 3: Handling Generic Exceptions\n"
   ]
  },
  {
   "cell_type": "markdown",
   "id": "53904d5a-d1ea-47d3-bff3-97666e8f2ded",
   "metadata": {},
   "source": [
    "Imagine you have a number and want to perform a complex mathematical task. The calculation requires dividing the value of the input argument `\"num\"` by the difference between `\"num\"` and 5, and the result has to be stored in a variable called `\"result\"`.\n",
    "\n",
    "You have to define a function so that it can perform that complex mathematical task. The function should handle any potential errors that occur during the calculation. To do this, you can use a try-except block. If any exception arises during the calculation, it should catch the error using the generic exception class `\"Exception\" as \"e\"`. When an exception occurs, the function should display `\"An error occurred during calculation.`\n"
   ]
  },
  {
   "cell_type": "code",
   "execution_count": 18,
   "id": "69ec97bd-6d7d-4393-b95a-db4656a8806f",
   "metadata": {},
   "outputs": [
    {
     "name": "stdout",
     "output_type": "stream",
     "text": [
      "Enter a number: 9\n",
      "Result: 2.25\n"
     ]
    }
   ],
   "source": [
    "#Type your code here\n",
    "def complex_calculation(num):\n",
    "    try:\n",
    "        result = num / (num - 5)\n",
    "        print (f\"Result: {result}\")\n",
    "    except Exception as e:\n",
    "        print(\"An error occurred during calculation.\")\n",
    "# Test case\n",
    "user_input = float(input(\"Enter a number: \"))\n",
    "complex_calculation(user_input)"
   ]
  },
  {
   "cell_type": "code",
   "execution_count": 22,
   "metadata": {},
   "outputs": [
    {
     "name": "stdout",
     "output_type": "stream",
     "text": [
      "Enter a number: p\n",
      "An error occurred during calculation.\n"
     ]
    }
   ],
   "source": [
    "#Type your code here\n",
    "def complex_calculation():\n",
    "    num = (input(\"Enter a number: \"))\n",
    "    try:\n",
    "        result = num / (num - 5)\n",
    "        return print (f\"Result: {result}\")\n",
    "    except Exception as e:\n",
    "        return print(\"An error occurred during calculation.\")\n",
    "# Test case\n",
    "\n",
    "complex_calculation()"
   ]
  },
  {
   "cell_type": "markdown",
   "id": "3f032cd4-aff5-40a8-b8bf-e29899a54a6e",
   "metadata": {},
   "source": [
    "**Note:- Practice handling exceptions by trying different input types like using integers, strings, zero, negative values, or other data types.**\n"
   ]
  },
  {
   "cell_type": "markdown",
   "id": "972ea511-186a-4662-af24-fb8f28a88f23",
   "metadata": {},
   "source": [
    "<details><summary>Click here for the hints</summary>\n",
    "\n",
    "```python\n",
    "Follow these:-\n",
    "* Define a function for the complex calculation and pass any argument.\n",
    "* Use a try-except block for error handling.\n",
    "* Perform the calculation and store the result in \"result.\"\n",
    "* Catch any exceptions using Exception as e.\n",
    "* Display \"An error occurred during calculation.\" when an exception is caught.\n",
    "* take user input\n",
    "* Call the defined function with the user input\n",
    "**Note:- Test with different inputs to validate error handling.**\n",
    "```\n",
    "\n",
    "</details>\n"
   ]
  },
  {
   "cell_type": "markdown",
   "id": "6c53f69a-9774-4ecf-8dd8-7abd8f8eb835",
   "metadata": {},
   "source": [
    "<details><summary>Click here for the solution</summary>\n",
    "\n",
    "```python\n",
    "def complex_calculation(num):\n",
    "    try:\n",
    "        result = num / (num - 5)\n",
    "        print (f\"Result: {result}\")\n",
    "    except Exception as e:\n",
    "        print(\"An error occurred during calculation.\")\n",
    "# Test case\n",
    "user_input = float(input(\"Enter a number: \"))\n",
    "complex_calculation(user_input)\n",
    "```\n",
    "\n",
    "</details>\n"
   ]
  },
  {
   "cell_type": "markdown",
   "id": "5c578c9e-edeb-4faf-b632-de07c1691ff3",
   "metadata": {},
   "source": [
    "## Authors\n"
   ]
  },
  {
   "cell_type": "markdown",
   "id": "428e5c61-9f3b-4352-a4b0-42b08e558f5e",
   "metadata": {},
   "source": [
    "<a href=\"https://www.linkedin.com/in/joseph-s-50398b136/\" target=\"_blank\">Joseph Santarcangelo</a>\n"
   ]
  },
  {
   "cell_type": "markdown",
   "id": "0b840493-724a-4b63-bd30-9319a4c628c5",
   "metadata": {},
   "source": [
    "## Change Log\n",
    "\n",
    "|  Date (YYYY-MM-DD) |  Version | Changed By  |  Change Description |\n",
    "|---|---|---|---|\n",
    "| 2023-08-0 | 2.1   | Akansha Yadav | Added optional practice section |\n",
    "| 2020-09-02  | 2.0  | Simran | Template updates to the file|\n",
    "|   |   |   |   |\n",
    "\n",
    "\n",
    "\n",
    "\n",
    "## <h3 align=\"center\"> © IBM Corporation 2020. All rights reserved. <h3/>\n"
   ]
  }
 ],
 "metadata": {
  "kernelspec": {
   "display_name": "Python 3 (ipykernel)",
   "language": "python",
   "name": "python3"
  },
  "language_info": {
   "codemirror_mode": {
    "name": "ipython",
    "version": 3
   },
   "file_extension": ".py",
   "mimetype": "text/x-python",
   "name": "python",
   "nbconvert_exporter": "python",
   "pygments_lexer": "ipython3",
   "version": "3.9.7"
  }
 },
 "nbformat": 4,
 "nbformat_minor": 4
}
