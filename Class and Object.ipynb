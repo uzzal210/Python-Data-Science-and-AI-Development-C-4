{
 "cells": [
  {
   "cell_type": "markdown",
   "id": "c56641aa",
   "metadata": {},
   "source": [
    "# Objective:\n",
    "By the end of this reading, you should be able to:\n",
    "\n",
    "Learn the fundamental concepts of Python objects and classes.\n",
    "Understand the Structure of Clases and object code\n",
    "Understand the concept with real-world example\n",
    "Introduction to Classes and object\n",
    "\n"
   ]
  },
  {
   "cell_type": "markdown",
   "id": "f8fd2ec6",
   "metadata": {},
   "source": [
    "# Classes:\n",
    "A class is a blueprint or template for creating objects. It defines the structure and behavior that its objects will have.\n",
    "\n",
    "Think of a class as a cookie cutter, and objects as the cookies cut from that template.\n",
    "\n",
    "In Python, classes are created using the class keyword."
   ]
  },
  {
   "cell_type": "markdown",
   "id": "eaf35389",
   "metadata": {},
   "source": [
    "# Creating Classes"
   ]
  },
  {
   "cell_type": "code",
   "execution_count": null,
   "id": "c7074403",
   "metadata": {},
   "outputs": [],
   "source": [
    "When you create a class, you specify the attributes(data) and methods (functions) that objects of that class will have.\n",
    "Attributes are defined as variables within the class, and methods are defined as functions.\n",
    "For example,you can design a \"Car\" class with attributes such as \"color\" and \"speed,\" along with methods like \"accelerate.\""
   ]
  },
  {
   "cell_type": "code",
   "execution_count": null,
   "id": "cfb08822",
   "metadata": {},
   "outputs": [],
   "source": [
    "# Objects:\n",
    "An object is a fundamental unit in Python that represents a real-world entity or concept.\n",
    "Objects can be tangible (like a car) or abstract (like a student's grade).\n",
    "\n",
    "Every object has two main characteristics:\n",
    "\n",
    "#State:\n",
    "The attributes or data that describe the object. For our \"Car\" object, this might include attributes like \"color\", \"speed\", \n",
    "                                                  and \"fuel level\".\n",
    "\n",
    "#Behavior:\n",
    "The actions or methods that the object can perform. In Python, methods are functions that belong to objects and\n",
    "                    can change the object's' state or perform specific operations."
   ]
  },
  {
   "cell_type": "code",
   "execution_count": null,
   "id": "d6460e1c",
   "metadata": {},
   "outputs": [],
   "source": [
    "###Instantiating Objects:\n",
    "Once you've defined a class, you can create individual objects (instances) based on that class.\n",
    "Each object is independent and has its own set of attributes and methods.\n",
    "To create an object, you use the class name followed by parentheses,\n",
    "class car():\n",
    "    pass\n",
    "\n",
    "so: \"my_car = Car()\"\n",
    "    \n",
    "    \n",
    "####Interacting with Objects:\n",
    "You interact with objects by calling their methods or accessing their attributes using dot notation.\n",
    "\n",
    "For example, if you have a Car object named my_car, you can set its color with my_car.color = \"blue\" and\n",
    "accelerate it with my_car.accelerate() if there's an accelerate method defined in the class."
   ]
  },
  {
   "cell_type": "code",
   "execution_count": null,
   "id": "664fef00",
   "metadata": {},
   "outputs": [],
   "source": [
    "##Class Declaration (class ClassName):\n",
    "The class keyword is used to declare a class in Python.\n",
    "ClassName is the name of the class, typically following CamelCase naming conventions.\n",
    "1\n",
    "class ClassName:"
   ]
  },
  {
   "cell_type": "code",
   "execution_count": null,
   "id": "16c789f1",
   "metadata": {},
   "outputs": [],
   "source": [
    "###Class Attributes (class_attribute = value):\n",
    "Class attributes are variables that are shared among all instances (objects) of the class.\n",
    "They are defined within the class but outside of any methods."
   ]
  },
  {
   "cell_type": "code",
   "execution_count": null,
   "id": "c5e425cb",
   "metadata": {},
   "outputs": [],
   "source": [
    "class ClassName:\n",
    "    # Class attributes (shared by all instances)\n",
    "    class_attribute = value"
   ]
  },
  {
   "cell_type": "code",
   "execution_count": null,
   "id": "1f71cd69",
   "metadata": {},
   "outputs": [],
   "source": [
    "##Constructor Method (def init(self, attribute1, attribute2, …):):\n",
    "*The __init__ method is a special method known as the constructor.\n",
    "*It initializes the instance attributes (also called instance variables) when an object is created.\n",
    "*The self parameter is the first parameter of the constructor, referring to the instance being created.\n",
    "*attribute1, attribute2, and so on are parameters passed to the constructor when creating an object.\n",
    "*Inside the constructor, self.attribute1, self.attribute2, and so on are used to assign values to instance attributes."
   ]
  },
  {
   "cell_type": "code",
   "execution_count": null,
   "id": "f54e3d2f",
   "metadata": {},
   "outputs": [],
   "source": [
    "class ClassName:\n",
    "    # Class attributes (shared by all instances)\n",
    "    class_attribute = value\n",
    "    # Constructor method (initialize instance attributes)\n",
    "    def __init__(self, attribute1, attribute2, ...):\n",
    "        pass\n",
    "        # ..."
   ]
  },
  {
   "cell_type": "markdown",
   "id": "e60d1300",
   "metadata": {},
   "source": [
    "## Instance Methods (def method1(self, parameter1, parameter2, …):):\n",
    "Instance methods are functions defined within the class.\n",
    "They operate on the instance's data (instance attributes) and can perform actions specific to instances.\n",
    "The self parameter is required in instance methods, allowing them to access instance attributes and \n",
    "call other methods within the class."
   ]
  },
  {
   "cell_type": "code",
   "execution_count": null,
   "id": "24c26d67",
   "metadata": {},
   "outputs": [],
   "source": [
    "class ClassName:\n",
    "    # Class attributes (shared by all instances)\n",
    "    class_attribute = value\n",
    "    # Constructor method (initialize instance attributes)\n",
    "    def __init__(self, attribute1, attribute2, ...):\n",
    "        self.attribute1 = attribute1\n",
    "        self.attribute2 = attribute2\n",
    "        # ...\n",
    "    # Instance methods (functions)\n",
    "    def method1(self, parameter1, parameter2, ...):\n",
    "        # Method logic\n",
    "        pass\n",
    "    "
   ]
  },
  {
   "cell_type": "code",
   "execution_count": null,
   "id": "f2019eed",
   "metadata": {},
   "outputs": [],
   "source": [
    "class ClassName:\n",
    "    # Class attributes (shared by all instances)\n",
    "    class_attribute = value\n",
    "    # Constructor method (initialize instance attributes)\n",
    "    def __init__(self, attribute1, attribute2, ...):\n",
    "        self.attribute1 = attribute1\n",
    "        self.attribute2 = attribute2\n",
    "        # ...\n",
    "    # Instance methods (functions)\n",
    "    def method1(self, parameter1, parameter2, ...):\n",
    "        # Method logic\n",
    "        pass\n",
    "    def method2(self, parameter1, parameter2, ...):\n",
    "        # Method logic\n",
    "        pass"
   ]
  },
  {
   "cell_type": "markdown",
   "id": "aeddebe4",
   "metadata": {},
   "source": [
    "# Creating Objects (Instances):\n",
    "To create objects (instances) of the class, you call the class like a function and\n",
    "provide arguments required by the constructor.\n",
    "Each object is a distinct instance of the class, with its own set of instance attributes and\n",
    "the ability to call methods defined in the class."
   ]
  },
  {
   "cell_type": "code",
   "execution_count": null,
   "id": "b3e4e45e",
   "metadata": {},
   "outputs": [],
   "source": [
    "Create objects (instances) of the class\n",
    "object1 = ClassName(arg1, arg2, ...)\n",
    "object2 = ClassName(arg1, arg2, ...)"
   ]
  },
  {
   "cell_type": "code",
   "execution_count": null,
   "id": "3f875c8c",
   "metadata": {},
   "outputs": [],
   "source": [
    "object1 = ClassName(arg1, arg2, ...)\n",
    "object2 = ClassName(arg1, arg2, ...)"
   ]
  },
  {
   "cell_type": "code",
   "execution_count": null,
   "id": "ce16edb2",
   "metadata": {},
   "outputs": [],
   "source": [
    "##Calling methods on objects:\n",
    "In this section we will call methods on objects, specifically object1 and object2.\n",
    "The methods method1 and method2 are defined in the ClassName class, and you're calling them on object1 and object2 respectively.\n",
    "You pass values param1_value and param2_value as arguments to these methods. These arguments are used within the method's logic.\n",
    "\n",
    "\n",
    "##Method 1: Using dot notation:\n",
    "This is the most straightforward way to call an object's method.\n",
    "In this we use the dot notation (object.method()) to directly invoke the method on the object.\n",
    "For example, result1 = object1.method1(param1_value, param2_value, ...) calls method1 on object1."
   ]
  },
  {
   "cell_type": "code",
   "execution_count": null,
   "id": "323aa15e",
   "metadata": {},
   "outputs": [],
   "source": [
    "# Calling methods on objects\n",
    "# Method 1: Using dot notation\n",
    "result1 = object1.method1(param1_value, param2_value, ...)\n",
    "result2 = object2.method2(param1_value, param2_value, ...)"
   ]
  },
  {
   "cell_type": "code",
   "execution_count": null,
   "id": "f4b2b649",
   "metadata": {},
   "outputs": [],
   "source": [
    "####Method 2: Assigning object methods to variables:\n",
    "Here's an alternative way to call an object's method by assigning the method reference to a variable.\n",
    "\n",
    "method_reference = object1.method1 assigns the method method1 of object1 to the variable method_reference.\n",
    "\n",
    "Later, we call the method using the variable like this:\n",
    "result3 = method_reference(param1_value, param2_value, …)."
   ]
  },
  {
   "cell_type": "code",
   "execution_count": null,
   "id": "88800f13",
   "metadata": {},
   "outputs": [],
   "source": [
    "# Method 2: Assigning object methods to variables\n",
    "method_reference = object1.method1  # Assign the method to a variable\n",
    "result3 = method_reference(param1_value, param2_value, ...)"
   ]
  },
  {
   "cell_type": "code",
   "execution_count": null,
   "id": "2de66963",
   "metadata": {},
   "outputs": [],
   "source": [
    "##Accessing object attributes:\n",
    "Here, we are accessing an object's attribute using dot notation.\n",
    "\n",
    "attribute_value = object1.attribute1 retrieves the value of the attribute attribute1 from object1 and\n",
    "\n",
    "assigns it to the variable attribute_value."
   ]
  },
  {
   "cell_type": "code",
   "execution_count": null,
   "id": "5a11b68f",
   "metadata": {},
   "outputs": [],
   "source": [
    "# Accessing object attributes\n",
    "attribute_value = object1.attribute1  # Access the attribute using dot notation"
   ]
  },
  {
   "cell_type": "code",
   "execution_count": null,
   "id": "39990209",
   "metadata": {},
   "outputs": [],
   "source": [
    "#  Modifying object attributes:\n",
    "We are modifying an object's attribute using dot notation.\n",
    "object1.attribute2 = new_value sets the attribute attribute2 of object1 to the new value new_value.\n",
    "\n"
   ]
  },
  {
   "cell_type": "code",
   "execution_count": null,
   "id": "5ddf2151",
   "metadata": {},
   "outputs": [],
   "source": [
    "# Modifying object attributes\n",
    "object1.attribute2 = new_value  # Change the value of an attribute using dot notation"
   ]
  },
  {
   "cell_type": "code",
   "execution_count": null,
   "id": "1ebfb225",
   "metadata": {},
   "outputs": [],
   "source": [
    "##Accessing class attributes (shared by all instances):\n",
    "Finally,we access a class attribute, which is shared by all instances of the class.\n",
    "class_attr_value = ClassName.class_attribute accesses the class attribute class_attribute\n",
    "from the ClassName class and assigns its value to the variable class_attr_value.\n",
    "\n",
    "# Accessing class attributes (shared by all instances)\n",
    "class_attr_value = ClassName.class_attribute"
   ]
  },
  {
   "cell_type": "code",
   "execution_count": null,
   "id": "6fd73855",
   "metadata": {},
   "outputs": [],
   "source": [
    "Let's write a python program that simulates a simple car class, allowing you to create car instances, \n",
    "accelerate them, and display their current speeds.\n",
    "\n",
    "Let's start by defining a Car class that includes the following attributes and methods:\n",
    "Class attribute max_speed, which is set to 120 km/h.\n",
    "\n",
    "Constructor method __init__ that takes parameters for the car's make, model, color, and an optional speed (defaulting to 0).\n",
    "This method initializes instance attributes for make, model, color, and speed.\n",
    "\n",
    "Method accelerate(self, acceleration) that allows the car to accelerate. If the acceleration does not exceed the max_speed, \n",
    "update the car's speed attribute. Otherwise, set the speed to the max_speed.\n",
    "\n",
    "Method get_speed(self) that returns the current speed of the car."
   ]
  },
  {
   "cell_type": "code",
   "execution_count": 1,
   "id": "96cda140",
   "metadata": {},
   "outputs": [],
   "source": [
    "class Car:\n",
    "    # Class attribute (shared by all instances)\n",
    "    max_speed = 120  # Maximum speed in km/h\n",
    "    # Constructor method (initialize instance attributes)\n",
    "    def __init__(self, make, model, color, speed=0):\n",
    "        self.make = make\n",
    "        self.model = model\n",
    "        self.color = color\n",
    "        self.speed = speed  # Initial speed is set to 0\n",
    "    # Method for accelerating the car\n",
    "    def accelerate(self, acceleration):\n",
    "        if self.speed + acceleration <= Car.max_speed:\n",
    "            self.speed += acceleration\n",
    "        else:\n",
    "            self.speed = Car.max_speed\n",
    "    # Method to get the current speed of the car\n",
    "    def get_speed(self):\n",
    "        return self.speed"
   ]
  },
  {
   "cell_type": "code",
   "execution_count": 2,
   "id": "43a69197",
   "metadata": {},
   "outputs": [],
   "source": [
    "# Create objects (instances) of the Car class\n",
    "car1 = Car(\"Toyota\", \"Camry\", \"Blue\")\n",
    "car2 = Car(\"Honda\", \"Civic\", \"Red\")"
   ]
  },
  {
   "cell_type": "code",
   "execution_count": 3,
   "id": "970be7dc",
   "metadata": {},
   "outputs": [],
   "source": [
    "# Accelerate the cars\n",
    "car1.accelerate(30)\n",
    "car2.accelerate(20)"
   ]
  },
  {
   "cell_type": "code",
   "execution_count": 4,
   "id": "cda501fe",
   "metadata": {},
   "outputs": [
    {
     "name": "stdout",
     "output_type": "stream",
     "text": [
      "Toyota Camry is currently at 30 km/h.\n",
      "Honda Civic is currently at 20 km/h.\n"
     ]
    }
   ],
   "source": [
    "# Print the current speeds of the cars\n",
    "print(f\"{car1.make} {car1.model} is currently at {car1.get_speed()} km/h.\")\n",
    "print(f\"{car2.make} {car2.model} is currently at {car2.get_speed()} km/h.\")"
   ]
  },
  {
   "cell_type": "code",
   "execution_count": null,
   "id": "d17c10f6",
   "metadata": {},
   "outputs": [],
   "source": []
  },
  {
   "cell_type": "code",
   "execution_count": null,
   "id": "a5991cc2",
   "metadata": {},
   "outputs": [],
   "source": []
  },
  {
   "cell_type": "code",
   "execution_count": null,
   "id": "4566f836",
   "metadata": {},
   "outputs": [],
   "source": []
  },
  {
   "cell_type": "code",
   "execution_count": null,
   "id": "7da9cb61",
   "metadata": {},
   "outputs": [],
   "source": []
  },
  {
   "cell_type": "code",
   "execution_count": null,
   "id": "38f06153",
   "metadata": {},
   "outputs": [],
   "source": []
  }
 ],
 "metadata": {
  "kernelspec": {
   "display_name": "Python 3 (ipykernel)",
   "language": "python",
   "name": "python3"
  },
  "language_info": {
   "codemirror_mode": {
    "name": "ipython",
    "version": 3
   },
   "file_extension": ".py",
   "mimetype": "text/x-python",
   "name": "python",
   "nbconvert_exporter": "python",
   "pygments_lexer": "ipython3",
   "version": "3.9.7"
  }
 },
 "nbformat": 4,
 "nbformat_minor": 5
}
